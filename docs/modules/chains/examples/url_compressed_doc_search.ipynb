{
 "cells": [
  {
   "cell_type": "markdown",
   "metadata": {},
   "source": [
    "# URL Contextual Compressions Retriever\n",
    "\n",
    "The notebook showcases how to use the UrlCompressedDocSearchChain.\n",
    "\n",
    "In a nutshell, it loads url web content of various types (i.e. html, pdf or json), and retrives the chunks of text that are most relevant to a search query.\n",
    "\n",
    "The search uses [LangChain](https://github.com/hwchase17/langchain) [DocumentCompressorPipeline](https://github.com/hwchase17/langchain/blob/master/docs/modules/indexes/retrievers/examples/contextual-compression.ipynb). The core idea is simple: given a specific query, we should be able to return only the documents relevant to that query, and only the parts of those documents that are relevant."
   ]
  },
  {
   "cell_type": "code",
   "execution_count": 1,
   "metadata": {},
   "outputs": [],
   "source": [
    "# Don't forget to set the OpenAI API key.\n",
    "import os\n",
    "os.environ[\"OPENAI_API_KEY\"] = \"\"\n",
    "os.environ[\"TOKENIZERS_PARALLELISM\"] = \"true\""
   ]
  },
  {
   "cell_type": "markdown",
   "metadata": {},
   "source": [
    "## Web Page Search\n",
    "\n",
    "Below is an example of a search for a professional athelete's \"Number of championships\" from a sports website."
   ]
  },
  {
   "cell_type": "code",
   "execution_count": 2,
   "metadata": {},
   "outputs": [
    {
     "name": "stderr",
     "output_type": "stream",
     "text": [
      "NOTE: Redirects are currently not supported in Windows or MacOs.\n"
     ]
    },
    {
     "name": "stdout",
     "output_type": "stream",
     "text": [
      "[Document(page_content='LeBron’s championships: Zero (lost 4-0 to Spurs in 2007 Finals)', metadata={'source': 'https://www.nba.com/news/lebron-james-career-highlights'}), Document(page_content='LeBron’s championships: Two (beat Thunder 4-1 in 2012 Finals; beat Spurs 4-3 in 2013 Finals)', metadata={'source': 'https://www.nba.com/news/lebron-james-career-highlights'}), Document(page_content='LeBron’s championships: One (beat Warriors 4-3 in 2016 Finals)', metadata={'source': 'https://www.nba.com/news/lebron-james-career-highlights'}), Document(page_content='decade for a record-tying fourth time. To date, he has four NBA championships, four Finals MVPs,', metadata={'source': 'https://www.nba.com/news/lebron-james-career-highlights'})]\n"
     ]
    }
   ],
   "source": [
    "import nest_asyncio\n",
    "\n",
    "\n",
    "from slangchain.chains.url_compressed_doc_search.base import UrlCompressedDocSearchChain\n",
    "from langchain.embeddings.huggingface import HuggingFaceEmbeddings\n",
    "\n",
    "# Allows multi-threaded code to run on a notebook \n",
    "nest_asyncio.apply()\n",
    "\n",
    "# Chunk size for the url content.\n",
    "chunk_size = 100\n",
    "chunk_overlap = 50\n",
    "# Threshold to filter in the contexts that are higher than the value. THe value range is 0.0 - 1.0\n",
    "similarity_threshold = 0.5\n",
    "\n",
    "\n",
    "embeddings = HuggingFaceEmbeddings()\n",
    "\n",
    "web_similarity_search = UrlCompressedDocSearchChain(\n",
    "  embeddings=embeddings,\n",
    "  chunk_size=chunk_size,\n",
    "  chunk_overlap=chunk_overlap,\n",
    "  similarity_threshold=similarity_threshold,\n",
    "  browser_headless_flag=True\n",
    ")\n",
    "content = web_similarity_search.run(\"https://www.nba.com/news/lebron-james-career-highlights|Number of championships\")\n",
    "print(content)"
   ]
  },
  {
   "cell_type": "markdown",
   "metadata": {},
   "source": [
    "An example of multiple urls and search queries:"
   ]
  },
  {
   "cell_type": "code",
   "execution_count": 3,
   "metadata": {},
   "outputs": [
    {
     "name": "stdout",
     "output_type": "stream",
     "text": [
      "[Document(page_content='LeBron’s championships: Zero (lost 4-0 to Spurs in 2007 Finals)', metadata={'source': 'https://www.nba.com/news/lebron-james-career-highlights'}), Document(page_content='LeBron’s championships: Two (beat Thunder 4-1 in 2012 Finals; beat Spurs 4-3 in 2013 Finals)', metadata={'source': 'https://www.nba.com/news/lebron-james-career-highlights'}), Document(page_content='LeBron’s championships: One (beat Warriors 4-3 in 2016 Finals)', metadata={'source': 'https://www.nba.com/news/lebron-james-career-highlights'}), Document(page_content='decade for a record-tying fourth time. To date, he has four NBA championships, four Finals MVPs,', metadata={'source': 'https://www.nba.com/news/lebron-james-career-highlights'}), Document(page_content='LeBron’s championships: Zero (lost 4-0 to Spurs in 2007 Finals)', metadata={'source': 'https://www.nba.com/news/lebron-james-career-highlights'}), Document(page_content='LeBron’s championships: Two (beat Thunder 4-1 in 2012 Finals; beat Spurs 4-3 in 2013 Finals)', metadata={'source': 'https://www.nba.com/news/lebron-james-career-highlights'}), Document(page_content='LeBron’s championships: One (beat Warriors 4-3 in 2016 Finals)', metadata={'source': 'https://www.nba.com/news/lebron-james-career-highlights'}), Document(page_content='and championships Michael Jordan amassed in his days with the Bulls.', metadata={'source': 'https://www.nba.com/news/history-nba-legend-michael-jordan'})]\n"
     ]
    }
   ],
   "source": [
    "query = \"\"\"https://www.nba.com/news/lebron-james-career-highlights|Number of championships\n",
    "https://www.nba.com/news/history-nba-legend-michael-jordan|Number of scoring titles\"\"\"\n",
    "\n",
    "content = web_similarity_search.run(query)\n",
    "print(content)"
   ]
  },
  {
   "cell_type": "markdown",
   "metadata": {},
   "source": [
    "An example for a pdf file search"
   ]
  },
  {
   "cell_type": "code",
   "execution_count": 4,
   "metadata": {},
   "outputs": [
    {
     "name": "stderr",
     "output_type": "stream",
     "text": [
      "detectron2 is not installed. Cannot use the hi_res partitioning strategy. Falling back to partitioning with the fast strategy.\n"
     ]
    },
    {
     "name": "stdout",
     "output_type": "stream",
     "text": [
      "[Document(page_content='LeBron’s championships: Zero (lost 4-0 to Spurs in 2007 Finals)', metadata={'source': 'https://www.nba.com/news/lebron-james-career-highlights'}), Document(page_content='LeBron’s championships: Two (beat Thunder 4-1 in 2012 Finals; beat Spurs 4-3 in 2013 Finals)', metadata={'source': 'https://www.nba.com/news/lebron-james-career-highlights'}), Document(page_content='LeBron’s championships: One (beat Warriors 4-3 in 2016 Finals)', metadata={'source': 'https://www.nba.com/news/lebron-james-career-highlights'}), Document(page_content='decade for a record-tying fourth time. To date, he has four NBA championships, four Finals MVPs,', metadata={'source': 'https://www.nba.com/news/lebron-james-career-highlights'}), Document(page_content='LeBron’s championships: Zero (lost 4-0 to Spurs in 2007 Finals)', metadata={'source': 'https://www.nba.com/news/lebron-james-career-highlights'}), Document(page_content='LeBron’s championships: Two (beat Thunder 4-1 in 2012 Finals; beat Spurs 4-3 in 2013 Finals)', metadata={'source': 'https://www.nba.com/news/lebron-james-career-highlights'}), Document(page_content='LeBron’s championships: One (beat Warriors 4-3 in 2016 Finals)', metadata={'source': 'https://www.nba.com/news/lebron-james-career-highlights'}), Document(page_content='and championships Michael Jordan amassed in his days with the Bulls.', metadata={'source': 'https://www.nba.com/news/history-nba-legend-michael-jordan'}), Document(page_content='LeBron  Raymone  James  was  born  on  December  30,  1984  in  Akron,  Ohio.  He  was  the', metadata={'source': 'https://www.wrhs.org/wp-content/uploads/2021/01/Black-History-Month-LeBron.pdf'}), Document(page_content='only  child  to  his  mother,  Gloria  James.  Growing  up,  LeBron  lived  a  poor  life.  That', metadata={'source': 'https://www.wrhs.org/wp-content/uploads/2021/01/Black-History-Month-LeBron.pdf'}), Document(page_content='LeBron James was named PARADE magazine’s “High School Boys Basketball Player of', metadata={'source': 'https://www.wrhs.org/wp-content/uploads/2021/01/Black-History-Month-LeBron.pdf'}), Document(page_content='Growing  up,  LeBron  lived  a  poor  life.  That  did', metadata={'source': 'https://www.wrhs.org/wp-content/uploads/2021/01/Black-History-Month-LeBron.pdf'})]\n"
     ]
    }
   ],
   "source": [
    "query = \"https://www.wrhs.org/wp-content/uploads/2021/01/Black-History-Month-LeBron.pdf|When was Lebron James borned\"\n",
    "content = web_similarity_search.run(query)\n",
    "print(content)"
   ]
  }
 ],
 "metadata": {
  "kernelspec": {
   "display_name": "Python 3 (ipykernel)",
   "language": "python",
   "name": "python3"
  },
  "language_info": {
   "codemirror_mode": {
    "name": "ipython",
    "version": 3
   },
   "file_extension": ".py",
   "mimetype": "text/x-python",
   "name": "python",
   "nbconvert_exporter": "python",
   "pygments_lexer": "ipython3",
   "version": "3.10.7"
  },
  "vscode": {
   "interpreter": {
    "hash": "44a9cdcbdccbf05a880e90d2e6fe72470baab4d1b82472d890be0596ed887a6b"
   }
  }
 },
 "nbformat": 4,
 "nbformat_minor": 2
}
