{
 "cells": [
  {
   "cell_type": "markdown",
   "metadata": {},
   "source": [
    "# Agent Supervisor\n",
    "\n",
    "Inspired by [LangChain](https://github.com/hwchase17/langchain) [Agent Supervisor](https://github.com/langchain-ai/langgraph/blob/main/examples/multi_agent/agent_supervisor.ipynb), The notebook showcases an AgentSupervisor powered by [Anthropic's Claude](https://www.anthropic.com/news/claude-3-family).\n",
    "\n",
    "\n",
    "Below, we will create an agent group, with an agent supervisor to help delegate tasks.\n",
    "\n",
    "![diagram](./img/supervisor-diagram.png)\n",
    "\n",
    "Before we build, let's configure our environment:"
   ]
  },
  {
   "cell_type": "code",
   "execution_count": 1,
   "metadata": {},
   "outputs": [],
   "source": [
    "# %%capture --no-stderr\n",
    "# %pip install -U langchain langchain_anthropic langchain_experimental langgraph pandas"
   ]
  },
  {
   "cell_type": "code",
   "execution_count": 3,
   "metadata": {},
   "outputs": [],
   "source": [
    "from getpass import getpass\n",
    "import os\n",
    "\n",
    "\n",
    "def _set_if_undefined(var: str):\n",
    "  if not os.environ.get(var):\n",
    "    os.environ[var] = getpass(f\"Please provide your {var}\")\n",
    "\n",
    "_set_if_undefined(\"ANTHROPIC_API_KEY\")\n",
    "_set_if_undefined(\"TAVILY_API_KEY\")"
   ]
  },
  {
   "cell_type": "markdown",
   "metadata": {},
   "source": [
    "## Create tools\n",
    "\n",
    "For this example, you will make an agent to do web research with a search engine. Define the tools they'll use below:"
   ]
  },
  {
   "cell_type": "code",
   "execution_count": 4,
   "metadata": {},
   "outputs": [],
   "source": [
    "from langchain_community.tools.tavily_search import TavilySearchResults\n",
    "\n",
    "tavily_tool = TavilySearchResults(max_results=5)"
   ]
  },
  {
   "cell_type": "markdown",
   "metadata": {},
   "source": [
    "## Construct Graph\n",
    "\n",
    "We're ready to start instantiating and invoking the graph using the AgentSupervisor class."
   ]
  },
  {
   "cell_type": "code",
   "execution_count": 5,
   "metadata": {},
   "outputs": [
    {
     "name": "stdout",
     "output_type": "stream",
     "text": [
      "\n",
      "\n",
      "\u001b[1m> Entering new AgentSupervisor chain...\u001b[0m\n"
     ]
    },
    {
     "name": "stderr",
     "output_type": "stream",
     "text": [
      "/Library/Frameworks/Python.framework/Versions/3.10/lib/python3.10/site-packages/langchain_core/_api/beta_decorator.py:87: LangChainBetaWarning: The function `bind_tools` is in beta. It is actively being worked on, so the API may change.\n",
      "  warn_beta(\n"
     ]
    },
    {
     "name": "stdout",
     "output_type": "stream",
     "text": [
      "{'supervisor': {'next': 'Researcher'}}\n",
      "----\n",
      "\n",
      "\n",
      "\u001b[1m> Entering new AgentExecutor chain...\u001b[0m\n",
      "\u001b[32;1m\u001b[1;3m\n",
      "Invoking: `tavily_search_results_json` id: `toolu_01VKJrAGhVocEz2jBu5vzZfP`, index: 0 input: `{'query': 'Apple company'}`\n",
      "responded: [{'id': 'toolu_01VKJrAGhVocEz2jBu5vzZfP', 'input': {'query': 'Apple company'}, 'name': 'tavily_search_results_json', 'type': 'tool_use'}]\n",
      "\n",
      "\u001b[0m\u001b[36;1m\u001b[1;3m[{'url': 'https://www.apple.com/newsroom/', 'content': 'Building on this satellite infrastructure, Apple recently introduced Roadside Assistance via satellite to connect users to AAA if they have car trouble while outside of cellular and Wi-Fi coverage.2\\xa0 Other safety capabilities that can provide assistance when it matters most include:\\nPress Contacts\\nBlair Ranger\\nApple\\nblair_ranger@apple.com\\nApple Media Helpline\\nmedia.help@apple.com\\nApple Stories\\nMore from Newsroom\\nApple Footer\\nShop and Learn\\nShop and Learn\\n+\\nApple Wallet\\nApple Wallet\\n+\\nAccount\\nAccount\\n+\\nEntertainment\\nEntertainment\\n+\\nApple Store\\nApple Store\\n+\\nFor Business\\nFor Business\\n+\\nFor Education\\nFor Education\\n+\\nFor Healthcare\\nFor Healthcare\\n+\\nFor Government\\nFor Government\\n+\\nApple Values\\nApple Values\\n+\\nAbout Apple\\nAbout Apple\\n+ Press Contacts\\nNick Leahy\\nApple\\nnleahy@apple.com\\nApple Media Helpline\\nmedia.help@apple.com\\nApple extends Emergency SOS via satellite for an additional free year for existing iPhone\\xa014 users\\nText of this article\\nNovember 15, 2023\\nUPDATE\\nApple extends Emergency SOS via satellite for an additional free year for existing iPhone\\xa014 users\\nSince its launch a year ago, this groundbreaking service has made a significant impact around the world\\nOne year ago today, Apple’s groundbreaking safety service Emergency SOS via satellite became available on all iPhone 14 models in the U.S. and Canada. Newsroom\\nLatest News\\nApple announces expanded partnership with Amkor for advanced silicon packaging in the U.S.\\nText of this article\\nNovember 30, 2023\\nUPDATE\\nApple announces expanded partnership with Amkor for advanced silicon packaging in the U.S.\\n From a man who was rescued after his car plummeted over a 400-foot cliff in Los Angeles, to lost hikers found in the Apennine Mountains in Italy, we continue to hear stories of our customers being able to connect with emergency responders when they otherwise wouldn’t have been able to,” said Kaiann Drance, Apple’s vice president of Worldwide iPhone Product Marketing. “Apple silicon has unlocked new levels of performance for our users, enabling them to do things they could never do before, and we are thrilled that Apple silicon will soon be produced and packaged in Arizona.”\\n'}, {'url': 'https://www.apple.com/leadership/', 'content': 'Meet the senior leaders and board members of Apple, the technology company that revolutionized personal computing, music, mobile, and entertainment. Learn about their roles, backgrounds, and achievements at Apple.'}, {'url': 'https://www.macworld.com/article/671584/history-of-apple-the-story-of-steve-jobs-and-the-company-he-founded.html', 'content': 'In return, Apple unseated Netscape as the Mac’s default browser and installed Internet Explorer in its place, which was actively developed right up until 2003, when in the face rumours that Apple was working on its own browser in house –\\xa0Safari –\\xa0Microsoft scaled back its work on IE for Mac to the point where, today, it no longer runs on OS X.\\nApple in the 1990s\\nApple was a very different company in the 1990s to the one we know today. So, the display became the regular screen, and the mouse was swapped out for the Apple II’s game paddle, which Bricklin described as being “a dial you could turn to move game objects back and forth… you could move the cursor left or right, and then push the ‘fire’ button, and then turning the paddle would move the cursor up and down.”\\n It was a convoluted choice, based on the belief that the computer was so brilliant it would make the company ‘Billions and Billions’, which just happened to be the name of a book written by astronomer Carl Sagan, who used to stress the letter ‘B’ when saying the word ‘billions’ so people wouldn’t confuse it with millions.\\n We had to have the profits of the Apple II and we couldn’t afford to cut the price of the Macintosh because we needed the profits from the Apple II to show our earnings –\\xa0not just to cover the Mac’s problems. We start with the early days, the tale of how Apple was founded, moving on through the Apple I, to the Apple II, the launch of the Macintosh and the revolution in the DTP industry…'}, {'url': 'https://en.wikipedia.org/wiki/Apple_Inc.', 'content': 'In total, Apple occupies almost 40% of the available office space in the city.[278]\\nApple\\'s headquarters for Europe, the Middle East and Africa (EMEA) are located in Cork in the south of Ireland, called the Hollyhill campus.[279] The facility, which opened in 1980, houses 5,500 people and was Apple\\'s first location outside of the United States.[280] Apple\\'s international sales and distribution arms operate out of the campus in Cork.[281]\\nApple has two campuses near Austin, Texas: a 216,000-square-foot (20,100\\xa0m2) campus opened in 2014 houses 500 engineers who work on Apple silicon[282] and a 1.1-million-square-foot (100,000\\xa0m2) campus opened in 2021 where 6,000 people work in technical support, supply chain management, online store curation, and Apple Maps data management.\\n As of the end of 2021[update], this broad line of products comprises about 11% of the company\\'s revenues.[1]\\nAt WWDC 2023, Apple introduced its new VR headset, Vision Pro, along with visionOS.[188] Apple announced that it will be partnering with Unity to bring existing 3D apps to Vision Pro using Unity\\'s PolySpatial technology.[189][190][191][192]\\nServices\\nApple offers a broad line of services, including advertising in the App Store and Apple News app, the AppleCare+ extended warranty plan, the iCloud+ cloud-based data storage service, payment services through the Apple Card credit card and the Apple Pay processing platform, digital content services including Apple Books, Apple Fitness+, Apple Music, Apple News+, Apple TV+, and the iTunes Store.\\n According to Bloomberg, the headset may come out in 2023.[173] Further insider reports state that the device uses iris scanning for payment confirmation and signing into accounts.[174]\\nOn June 18, 2022, the Apple Store in Towson, Maryland became the first to unionize in the U.S., with the employees voting to join the International Association of Machinists and Aerospace Workers.[175]\\nOn July 7, 2022, Apple added Lockdown Mode to macOS 13 and iOS 16, as a response to the earlier Pegasus revelations; the mode increases security protections for high-risk users against targeted zero-day malware.[176]\\nApple launched a buy now, pay later service called \\'Apple Pay Later\\' for its Apple Wallet users in March 2023. While the Apple I and early Apple II models used ordinary audio cassette tapes as storage devices, they were superseded by the introduction of a 5+1⁄4-inch floppy disk drive and interface called the Disk II in 1978.[26][27]\\nThe Apple II was chosen to be the desktop platform for the first \"killer application\" of the business world: VisiCalc, a spreadsheet program released in 1979.[26] VisiCalc created a business market for the Apple II and gave home users an additional reason to buy an Apple II: compatibility with the office,[26] but Apple II market share remained behind home computers made by competitors such as Atari, Commodore, and Tandy.[28][29]\\n The Christmas season of 1989 was the first in the company\\'s history to have declining sales, which led to a 20% drop in Apple\\'s stock price.[55]:\\u200a117–129\\u200a During this period, the relationship between Sculley and Gassée deteriorated, leading Sculley to effectively demote Gassée in January 1990 by appointing Michael Spindler as the chief operating officer.[56] Gassée left the company later that year.[57]\\n1990–1997: Decline and restructuring\\nThe company pivoted strategy and in October 1990 introduced three lower-cost models, the Macintosh Classic, the Macintosh LC, and the Macintosh IIsi, all of which saw significant sales due to pent-up demand.[58]'}, {'url': 'https://www.apple.com/', 'content': 'Explore the latest products and services from Apple, including iPhone 15 Pro, iPad, MacBook Pro, AirPods Pro and Apple Card. Learn more about spatial computing, trade-in offers, and Apple TV+.'}]\u001b[0m\u001b[32;1m\u001b[1;3mBased on the search results, here are the key points about Apple:\n",
      "\n",
      "- Apple is a major technology company that designs and sells consumer electronics, computer software, and online services. It was founded in 1976 by Steve Jobs, Steve Wozniak, and Ronald Wayne.\n",
      "\n",
      "- Some of Apple's most well-known products include the iPhone, iPad, Mac computers, Apple Watch, and AirPods. It is also known for its macOS and iOS operating systems, as well as services like the App Store, Apple Music, Apple TV+, and iCloud.\n",
      "\n",
      "- Apple is headquartered in Cupertino, California and has a global presence with offices and retail stores around the world. It is one of the most valuable and profitable companies in the world.\n",
      "\n",
      "- The company has gone through periods of both growth and decline over its history, but has consistently been an innovator in the technology industry. Key events include the launch of the Macintosh in 1984, the return of Steve Jobs in the 1990s, and the introduction of game-changing products like the iPhone and iPad in the 2000s.\n",
      "\n",
      "- Today, Apple continues to be a leader in consumer technology, with a focus on products, software, and services that integrate seamlessly together. The company is known for its design aesthetic, user experience, and commitment to sustainability.\n",
      "\n",
      "Does this summary accurately capture the key points about who Apple is as a company? Let me know if you need any clarification or have additional questions.\u001b[0m\n",
      "\n",
      "\u001b[1m> Finished chain.\u001b[0m\n",
      "{'Researcher': {'messages': [AIMessage(content=\"Based on the search results, here are the key points about Apple:\\n\\n- Apple is a major technology company that designs and sells consumer electronics, computer software, and online services. It was founded in 1976 by Steve Jobs, Steve Wozniak, and Ronald Wayne.\\n\\n- Some of Apple's most well-known products include the iPhone, iPad, Mac computers, Apple Watch, and AirPods. It is also known for its macOS and iOS operating systems, as well as services like the App Store, Apple Music, Apple TV+, and iCloud.\\n\\n- Apple is headquartered in Cupertino, California and has a global presence with offices and retail stores around the world. It is one of the most valuable and profitable companies in the world.\\n\\n- The company has gone through periods of both growth and decline over its history, but has consistently been an innovator in the technology industry. Key events include the launch of the Macintosh in 1984, the return of Steve Jobs in the 1990s, and the introduction of game-changing products like the iPhone and iPad in the 2000s.\\n\\n- Today, Apple continues to be a leader in consumer technology, with a focus on products, software, and services that integrate seamlessly together. The company is known for its design aesthetic, user experience, and commitment to sustainability.\\n\\nDoes this summary accurately capture the key points about who Apple is as a company? Let me know if you need any clarification or have additional questions.\", name='Researcher')]}}\n",
      "----\n",
      "{'supervisor': {'next': 'FINISH'}}\n",
      "----\n",
      "\n",
      "\u001b[1m> Finished chain.\u001b[0m\n",
      "RESULT: {'input': 'Who is Apple.', 'output': {'messages': [HumanMessage(content=[{'type': 'text', 'text': 'Who is Apple.'}, {'type': 'text', 'text': \"Based on the search results, here are the key points about Apple:\\n\\n- Apple is a major technology company that designs and sells consumer electronics, computer software, and online services. It was founded in 1976 by Steve Jobs, Steve Wozniak, and Ronald Wayne.\\n\\n- Some of Apple's most well-known products include the iPhone, iPad, Mac computers, Apple Watch, and AirPods. It is also known for its macOS and iOS operating systems, as well as services like the App Store, Apple Music, Apple TV+, and iCloud.\\n\\n- Apple is headquartered in Cupertino, California and has a global presence with offices and retail stores around the world. It is one of the most valuable and profitable companies in the world.\\n\\n- The company has gone through periods of both growth and decline over its history, but has consistently been an innovator in the technology industry. Key events include the launch of the Macintosh in 1984, the return of Steve Jobs in the 1990s, and the introduction of game-changing products like the iPhone and iPad in the 2000s.\\n\\n- Today, Apple continues to be a leader in consumer technology, with a focus on products, software, and services that integrate seamlessly together. The company is known for its design aesthetic, user experience, and commitment to sustainability.\\n\\nDoes this summary accurately capture the key points about who Apple is as a company? Let me know if you need any clarification or have additional questions.\"}]), AIMessage(content=\"Based on the search results, here are the key points about Apple:\\n\\n- Apple is a major technology company that designs and sells consumer electronics, computer software, and online services. It was founded in 1976 by Steve Jobs, Steve Wozniak, and Ronald Wayne.\\n\\n- Some of Apple's most well-known products include the iPhone, iPad, Mac computers, Apple Watch, and AirPods. It is also known for its macOS and iOS operating systems, as well as services like the App Store, Apple Music, Apple TV+, and iCloud.\\n\\n- Apple is headquartered in Cupertino, California and has a global presence with offices and retail stores around the world. It is one of the most valuable and profitable companies in the world.\\n\\n- The company has gone through periods of both growth and decline over its history, but has consistently been an innovator in the technology industry. Key events include the launch of the Macintosh in 1984, the return of Steve Jobs in the 1990s, and the introduction of game-changing products like the iPhone and iPad in the 2000s.\\n\\n- Today, Apple continues to be a leader in consumer technology, with a focus on products, software, and services that integrate seamlessly together. The company is known for its design aesthetic, user experience, and commitment to sustainability.\\n\\nDoes this summary accurately capture the key points about who Apple is as a company? Let me know if you need any clarification or have additional questions.\", name='Researcher')], 'next': 'FINISH'}}\n"
     ]
    }
   ],
   "source": [
    "import sys\n",
    "import logging\n",
    "from langchain.callbacks.stdout import StdOutCallbackHandler\n",
    "\n",
    "from slangchain.graphs.anthropic.schemas import NodeTool\n",
    "\n",
    "from slangchain.graphs.anthropic.multi_agent.agent_supervisor import AgentSupervisor\n",
    "\n",
    "stream_handler = logging.StreamHandler(sys.stdout)\n",
    "logger = logging.getLogger()\n",
    "logger.setLevel(logging.INFO)\n",
    "logger.addHandler(stream_handler)\n",
    "\n",
    "callbacks = [StdOutCallbackHandler()]\n",
    "\n",
    "node_tools = [NodeTool.from_objs(\n",
    "  tool = tavily_tool,\n",
    "  name = \"Researcher\",\n",
    "  description= \"You are a web researcher.\"\n",
    ")]\n",
    "\n",
    "agent_super = AgentSupervisor.from_node_tools(\n",
    "  node_tools = node_tools,\n",
    "  early_stopping_method = \"force\",\n",
    "  recursion_limit = 50,\n",
    "  callbacks = callbacks,\n",
    "  verbosity = True,\n",
    ")\n",
    "result = agent_super.invoke(input={\"input\": \"Who is Apple.\"})\n",
    "logger.info(\"RESULT: %s\", result)"
   ]
  }
 ],
 "metadata": {
  "kernelspec": {
   "display_name": "Python 3 (ipykernel)",
   "language": "python",
   "name": "python3"
  },
  "language_info": {
   "codemirror_mode": {
    "name": "ipython",
    "version": 3
   },
   "file_extension": ".py",
   "mimetype": "text/x-python",
   "name": "python",
   "nbconvert_exporter": "python",
   "pygments_lexer": "ipython3",
   "version": "3.10.7"
  },
  "vscode": {
   "interpreter": {
    "hash": "44a9cdcbdccbf05a880e90d2e6fe72470baab4d1b82472d890be0596ed887a6b"
   }
  }
 },
 "nbformat": 4,
 "nbformat_minor": 2
}
