{
 "cells": [
  {
   "cell_type": "markdown",
   "metadata": {},
   "source": [
    "# Agent Supervisor\n",
    "\n",
    "Inspired by [LangChain](https://github.com/hwchase17/langchain) [Agent Supervisor](https://github.com/langchain-ai/langgraph/blob/main/examples/multi_agent/agent_supervisor.ipynb), The notebook showcases an AgentSupervisor powered by [Anthropic's Claude](https://www.anthropic.com/news/claude-3-family).\n",
    "\n",
    "\n",
    "Below, we will create an agent group, with an agent supervisor to help delegate tasks.\n",
    "\n",
    "![diagram](./img/supervisor-diagram.png)\n",
    "\n",
    "Before we build, let's configure our environment:"
   ]
  },
  {
   "cell_type": "code",
   "execution_count": 1,
   "metadata": {},
   "outputs": [],
   "source": [
    "# %%capture --no-stderr\n",
    "# %pip install -U langchain langchain_anthropic langchain_experimental langgraph pandas"
   ]
  },
  {
   "cell_type": "code",
   "execution_count": 2,
   "metadata": {},
   "outputs": [],
   "source": [
    "from getpass import getpass\n",
    "import os\n",
    "\n",
    "\n",
    "def _set_if_undefined(var: str):\n",
    "  if not os.environ.get(var):\n",
    "    os.environ[var] = getpass(f\"Please provide your {var}\")\n",
    "\n",
    "_set_if_undefined(\"ANTHROPIC_API_KEY\")\n",
    "_set_if_undefined(\"TAVILY_API_KEY\")"
   ]
  },
  {
   "cell_type": "markdown",
   "metadata": {},
   "source": [
    "## Create tools\n",
    "\n",
    "For this example, you will make an agent to do web research with a search engine. Define the tools they'll use below:"
   ]
  },
  {
   "cell_type": "code",
   "execution_count": 3,
   "metadata": {},
   "outputs": [],
   "source": [
    "from langchain_community.tools.tavily_search import TavilySearchResults\n",
    "\n",
    "tavily_tool = TavilySearchResults(max_results=5)\n",
    "\n",
    "tools = [ tavily_tool ]"
   ]
  },
  {
   "cell_type": "markdown",
   "metadata": {},
   "source": [
    "## Construct Graph\n",
    "\n",
    "We're ready to start instantiating and invoking the graph using the AgentSupervisor class."
   ]
  },
  {
   "cell_type": "code",
   "execution_count": 4,
   "metadata": {},
   "outputs": [
    {
     "name": "stdout",
     "output_type": "stream",
     "text": [
      "\n",
      "\n",
      "\u001b[1m> Entering new AgentSupervisor chain...\u001b[0m\n",
      "{'supervisor': {'next': 'tavily_search_results_json'}}\n",
      "----\n",
      "\n",
      "\n",
      "\u001b[1m> Entering new AgentExecutor chain...\u001b[0m\n",
      "\u001b[32;1m\u001b[1;3m\n",
      "Invoking: `tavily_search_results_json` with `{'query': 'Apple'}`\n",
      "responded: Let me search for information on Apple:\n",
      "\n",
      "\u001b[0m\u001b[36;1m\u001b[1;3m[{'url': 'https://www.apple.com/', 'content': 'Explore the latest products and services from Apple, including the new iPhone 15 Pro with titanium design and spatial computing. Trade in your old device and get up to 3% Daily Cash back with Apple Card.'}, {'url': 'https://support.apple.com/iphone', 'content': \"iPhone Support\\nGet started\\nUpgrade to iOS\\xa017\\nIt's easy to upgrade to iOS\\xa017 and experience new features to personalize your iPhone, express yourself in calls and messages, share content, and more.\\n See how to set up a new eSIM or transfer one from your previous iPhone.\\nUse USB-C on iPhone\\xa015 models\\nYou can charge your iPhone\\xa015 and connect to other devices with the USB-C connector.\\n Transfer data to a new iPhone with Quick\\xa0Start\\nWith Quick\\xa0Start, you can set up your new iPhone automatically using your previous device.\\n Turn on Live\\xa0Voicemail\\nYou can see a live transcription while someone is leaving you a voicemail, and decide if you want to answer the call as they're leaving a message.\\n Request Roadside\\xa0Assistance via satellite\\nUsing iPhone\\xa014 or later with iOS\\xa017, you can text for roadside assistance when you're outside of cellular and Wi-Fi coverage.\\n\"}, {'url': 'https://en.wikipedia.org/wiki/Apple_Inc.', 'content': 'In total, Apple occupies almost 40% of the available office space in the city.[278]\\nApple\\'s headquarters for Europe, the Middle East and Africa (EMEA) are located in Cork in the south of Ireland, called the Hollyhill campus.[279] The facility, which opened in 1980, houses 5,500 people and was Apple\\'s first location outside of the United States.[280] Apple\\'s international sales and distribution arms operate out of the campus in Cork.[281]\\nApple has two campuses near Austin, Texas: a 216,000-square-foot (20,100\\xa0m2) campus opened in 2014 houses 500 engineers who work on Apple silicon[282] and a 1.1-million-square-foot (100,000\\xa0m2) campus opened in 2021 where 6,000 people work in technical support, supply chain management, online store curation, and Apple Maps data management.\\n As of the end of 2021[update], this broad line of products comprises about 11% of the company\\'s revenues.[1]\\nAt WWDC 2023, Apple introduced its new VR headset, Vision Pro, along with visionOS.[188] Apple announced that it will be partnering with Unity to bring existing 3D apps to Vision Pro using Unity\\'s PolySpatial technology.[189][190][191][192]\\nServices\\nApple offers a broad line of services, including advertising in the App Store and Apple News app, the AppleCare+ extended warranty plan, the iCloud+ cloud-based data storage service, payment services through the Apple Card credit card and the Apple Pay processing platform, digital content services including Apple Books, Apple Fitness+, Apple Music, Apple News+, Apple TV+, and the iTunes Store.\\n According to Bloomberg, the headset may come out in 2023.[173] Further insider reports state that the device uses iris scanning for payment confirmation and signing into accounts.[174]\\nOn June 18, 2022, the Apple Store in Towson, Maryland became the first to unionize in the U.S., with the employees voting to join the International Association of Machinists and Aerospace Workers.[175]\\nOn July 7, 2022, Apple added Lockdown Mode to macOS 13 and iOS 16, as a response to the earlier Pegasus revelations; the mode increases security protections for high-risk users against targeted zero-day malware.[176]\\nApple launched a buy now, pay later service called \\'Apple Pay Later\\' for its Apple Wallet users in March 2023. While the Apple I and early Apple II models used ordinary audio cassette tapes as storage devices, they were superseded by the introduction of a 5+1⁄4-inch floppy disk drive and interface called the Disk II in 1978.[26][27]\\nThe Apple II was chosen to be the desktop platform for the first \"killer application\" of the business world: VisiCalc, a spreadsheet program released in 1979.[26] VisiCalc created a business market for the Apple II and gave home users an additional reason to buy an Apple II: compatibility with the office,[26] but Apple II market share remained behind home computers made by competitors such as Atari, Commodore, and Tandy.[28][29]\\n The Christmas season of 1989 was the first in the company\\'s history to have declining sales, which led to a 20% drop in Apple\\'s stock price.[55]:\\u200a117–129\\u200a During this period, the relationship between Sculley and Gassée deteriorated, leading Sculley to effectively demote Gassée in January 1990 by appointing Michael Spindler as the chief operating officer.[56] Gassée left the company later that year.[57]\\n1990–1997: Decline and restructuring\\nThe company pivoted strategy and in October 1990 introduced three lower-cost models, the Macintosh Classic, the Macintosh LC, and the Macintosh IIsi, all of which saw significant sales due to pent-up demand.[58]'}, {'url': 'https://support.apple.com/contact', 'content': 'Find help for your Apple products, get updates and restore iOS, or contact Apple Support by phone or chat. Learn how to cancel a subscription, buy an AppleCare plan, or check your service and support coverage.'}, {'url': 'https://www.apple.com/store', 'content': 'Important notice regarding the checkout receipt and monthly statement for Apple Card Monthly Installments (ACMI) purchases with this promotion: A purchase of an Eligible Product made when selecting ACMI (a 0% APR payment option available only in the U.S.) as the payment type at checkout will receive an instant credit equal to the cost of the Promotion Product (Apple Gift Card) deducted from the price of the Eligible Product at the time of purchase. ◊ Apple Card Monthly Installments (ACMI) is a 0% APR payment option that is only available if you select it at checkout in the U.S. for eligible Apple products purchased at Apple Store locations, apple.com (Opens in a new window), the Apple Store app, or by calling 1-800-MY-APPLE, and is subject to credit approval and credit limit. Footer\\nShop and Learn\\nApple Wallet\\nAccount\\nEntertainment\\nApple Store\\nFor Business\\nFor Education\\nFor Healthcare\\nFor Government\\nApple Values\\nAbout Apple\\nMore ways to shop: Find an Apple Store or other retailer near you. ACMI is a 0% APR payment option that is only available if you select it at checkout in the U.S. for eligible Apple products purchased at Apple Store locations, apple.com, the Apple Store app, or by calling 1-800-MY-APPLE, and is subject to credit approval and credit limit. The value of the Promotion Product (i.e., the value of the Apple Gift Card) will also be charged in a separate second ACMI installment plan for the same number of months as the discounted Eligible Product.'}]\u001b[0m\u001b[32;1m\u001b[1;3mBased on the search results, here are the key points about Apple:\n",
      "\n",
      "- Apple is a major technology company known for its popular products like the iPhone, iPad, Mac computers, and various software and services.\n",
      "\n",
      "- Apple's headquarters are located in Cupertino, California, and it has additional major campuses in Austin, Texas and Cork, Ireland. \n",
      "\n",
      "- Apple offers a wide range of products and services including hardware (iPhones, Macs, etc.), software (iOS, macOS, etc.), cloud services (iCloud), media/entertainment (Apple TV+, Apple Music), payment services (Apple Pay), and more.\n",
      "\n",
      "- Apple is one of the most valuable and profitable technology companies in the world. It has a large global presence and customer base.\n",
      "\n",
      "- The company has gone through periods of growth and decline over its history, but has emerged as a dominant force in consumer electronics and technology under the leadership of figures like Steve Jobs and Tim Cook.\n",
      "\n",
      "- Apple is known for its innovative product designs, emphasis on user experience, and unique brand identity and marketing approach.\n",
      "\n",
      "Does this summary accurately capture the key points about Apple based on the search results? Let me know if you need any clarification or have additional questions.\u001b[0m\n",
      "\n",
      "\u001b[1m> Finished chain.\u001b[0m\n",
      "{'tavily_search_results_json': {'messages': [AIMessage(content=\"Based on the search results, here are the key points about Apple:\\n\\n- Apple is a major technology company known for its popular products like the iPhone, iPad, Mac computers, and various software and services.\\n\\n- Apple's headquarters are located in Cupertino, California, and it has additional major campuses in Austin, Texas and Cork, Ireland. \\n\\n- Apple offers a wide range of products and services including hardware (iPhones, Macs, etc.), software (iOS, macOS, etc.), cloud services (iCloud), media/entertainment (Apple TV+, Apple Music), payment services (Apple Pay), and more.\\n\\n- Apple is one of the most valuable and profitable technology companies in the world. It has a large global presence and customer base.\\n\\n- The company has gone through periods of growth and decline over its history, but has emerged as a dominant force in consumer electronics and technology under the leadership of figures like Steve Jobs and Tim Cook.\\n\\n- Apple is known for its innovative product designs, emphasis on user experience, and unique brand identity and marketing approach.\\n\\nDoes this summary accurately capture the key points about Apple based on the search results? Let me know if you need any clarification or have additional questions.\", name='tavily_search_results_json')]}}\n",
      "----\n",
      "Exception - Type: <class 'IndexError'>, Exception: list index out of range, Traceback: <traceback object at 0x168905980>, File: /Library/Frameworks/Python.framework/Versions/3.10/lib/python3.10/site-packages/slangchain/llms/chat_anthropic_functions.py, Line: 203\n",
      "{'supervisor': {'next': 'FINISH'}}\n",
      "----\n",
      "\n",
      "\u001b[1m> Finished chain.\u001b[0m\n",
      "RESULT: {'input': 'Who is Apple.', 'output': {'messages': [HumanMessage(content='Who is Apple.'), AIMessage(content=\"Based on the search results, here are the key points about Apple:\\n\\n- Apple is a major technology company known for its popular products like the iPhone, iPad, Mac computers, and various software and services.\\n\\n- Apple's headquarters are located in Cupertino, California, and it has additional major campuses in Austin, Texas and Cork, Ireland. \\n\\n- Apple offers a wide range of products and services including hardware (iPhones, Macs, etc.), software (iOS, macOS, etc.), cloud services (iCloud), media/entertainment (Apple TV+, Apple Music), payment services (Apple Pay), and more.\\n\\n- Apple is one of the most valuable and profitable technology companies in the world. It has a large global presence and customer base.\\n\\n- The company has gone through periods of growth and decline over its history, but has emerged as a dominant force in consumer electronics and technology under the leadership of figures like Steve Jobs and Tim Cook.\\n\\n- Apple is known for its innovative product designs, emphasis on user experience, and unique brand identity and marketing approach.\\n\\nDoes this summary accurately capture the key points about Apple based on the search results? Let me know if you need any clarification or have additional questions.\", name='tavily_search_results_json')], 'next': 'FINISH'}}\n"
     ]
    }
   ],
   "source": [
    "import sys\n",
    "import logging\n",
    "from langchain.callbacks.stdout import StdOutCallbackHandler\n",
    "\n",
    "from slangchain.llms.chat_anthropic_functions import ChatAnthropicFunctions\n",
    "from slangchain.graphs.anthropic.agent_supervisor import AgentSupervisor\n",
    "\n",
    "llm = ChatAnthropicFunctions(model_name = \"claude-3-haiku-20240307\")\n",
    "\n",
    "stream_handler = logging.StreamHandler(sys.stdout)\n",
    "logger = logging.getLogger()\n",
    "logger.setLevel(logging.INFO)\n",
    "logger.addHandler(stream_handler)\n",
    "\n",
    "callbacks = [StdOutCallbackHandler()]\n",
    "\n",
    "agent_super = AgentSupervisor.from_llm_and_tools(\n",
    "  llm = llm,\n",
    "  tools = tools,\n",
    "  early_stopping_method = \"force\",\n",
    "  recursion_limit = 50,\n",
    "  callbacks = callbacks,\n",
    "  verbosity = True,\n",
    ")\n",
    "result = agent_super.invoke(input={\"input\": \"Who is Apple.\"})\n",
    "logger.info(\"RESULT: %s\", result)"
   ]
  }
 ],
 "metadata": {
  "kernelspec": {
   "display_name": "Python 3 (ipykernel)",
   "language": "python",
   "name": "python3"
  },
  "language_info": {
   "codemirror_mode": {
    "name": "ipython",
    "version": 3
   },
   "file_extension": ".py",
   "mimetype": "text/x-python",
   "name": "python",
   "nbconvert_exporter": "python",
   "pygments_lexer": "ipython3",
   "version": "3.10.7"
  },
  "vscode": {
   "interpreter": {
    "hash": "44a9cdcbdccbf05a880e90d2e6fe72470baab4d1b82472d890be0596ed887a6b"
   }
  }
 },
 "nbformat": 4,
 "nbformat_minor": 2
}
